{
  "nbformat": 4,
  "nbformat_minor": 0,
  "metadata": {
    "colab": {
      "provenance": [],
      "authorship_tag": "ABX9TyMOUiGblXgq9ivlEhGBZUHR",
      "include_colab_link": true
    },
    "kernelspec": {
      "name": "python3",
      "display_name": "Python 3"
    },
    "language_info": {
      "name": "python"
    }
  },
  "cells": [
    {
      "cell_type": "markdown",
      "metadata": {
        "id": "view-in-github",
        "colab_type": "text"
      },
      "source": [
        "<a href=\"https://colab.research.google.com/github/Kali-Raut/EDS-ACTIVITY/blob/main/MID_SEM_PRACTICAL_PART_2.ipynb\" target=\"_parent\"><img src=\"https://colab.research.google.com/assets/colab-badge.svg\" alt=\"Open In Colab\"/></a>"
      ]
    },
    {
      "cell_type": "code",
      "source": [
        "import csv\n",
        "file=open(\"/content/Result mid Prac - Sheet1.csv\",\"r\")\n",
        "reader=list(csv.reader(file,delimiter=','))\n",
        "print(reader)"
      ],
      "metadata": {
        "colab": {
          "base_uri": "https://localhost:8080/"
        },
        "id": "QGTLgDOYTK1x",
        "outputId": "231fc898-114b-4507-cbf2-1f4beed2f89d"
      },
      "execution_count": null,
      "outputs": [
        {
          "output_type": "stream",
          "name": "stdout",
          "text": [
            "[['ID', 'Name of student', 'Gender', 'mark1', 'mark2', 'mark3', 'mark4', 'mark5'], ['401', 'Rohit', 'Male', '48', '34', '42', '42', '34'], ['402', 'Ruhi', 'Female', '34', '24', '41', '41', '50'], ['403', 'Kali', 'Female', '43', '48', '42', '42', '39'], ['404', 'Om', 'Male', '41', '34', '43', '43', '49'], ['405', 'Priya', 'Female', '23', '34', '45', '45', '36'], ['406', 'Pooja', 'Female', '50', '56', '48', '48', '43'], ['407', 'Janvi', 'Female', '34', '23', '49', '49', '41'], ['408', 'Anshul', 'Male', '34', '45', '50', '50', '41'], ['409', 'Anita', 'Female', '32', '45', '29', '29', '45'], ['410', 'Ankush', 'Male', '32', '34', '43', '43', '43']]\n"
          ]
        }
      ]
    }
  ]
}