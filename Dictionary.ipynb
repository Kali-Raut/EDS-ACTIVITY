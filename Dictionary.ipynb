{
  "nbformat": 4,
  "nbformat_minor": 0,
  "metadata": {
    "colab": {
      "provenance": [],
      "authorship_tag": "ABX9TyOjHAIlXC6PYJ5h3n7UyKVn",
      "include_colab_link": true
    },
    "kernelspec": {
      "name": "python3",
      "display_name": "Python 3"
    },
    "language_info": {
      "name": "python"
    }
  },
  "cells": [
    {
      "cell_type": "markdown",
      "metadata": {
        "id": "view-in-github",
        "colab_type": "text"
      },
      "source": [
        "<a href=\"https://colab.research.google.com/github/Kali-Raut/EDS-ACTIVITY/blob/main/Dictionary.ipynb\" target=\"_parent\"><img src=\"https://colab.research.google.com/assets/colab-badge.svg\" alt=\"Open In Colab\"/></a>"
      ]
    },
    {
      "cell_type": "code",
      "execution_count": null,
      "metadata": {
        "colab": {
          "base_uri": "https://localhost:8080/"
        },
        "id": "nOlHG3MJ-X9s",
        "outputId": "af5c68a7-b38c-499b-d90c-15eedabbd976"
      },
      "outputs": [
        {
          "output_type": "stream",
          "name": "stdout",
          "text": [
            "{'name': 'Manju', 'div': 'D', 'age': 24, 'gender': 'Female'}\n",
            "<class 'dict'>\n",
            "4\n"
          ]
        }
      ],
      "source": [
        "dict1={\"name\":\"Manju\",\"div\":'D',\"age\":24,\"gender\":'Female'}\n",
        "print(dict1)\n",
        "print(type(dict1))\n",
        "print(len(dict1))"
      ]
    },
    {
      "cell_type": "code",
      "source": [
        "a=dict1.items()\n",
        "print(a)"
      ],
      "metadata": {
        "colab": {
          "base_uri": "https://localhost:8080/"
        },
        "id": "xLHTNEk__DW2",
        "outputId": "cd4672b6-51f2-4f09-d34b-bfe1ffec9d95"
      },
      "execution_count": null,
      "outputs": [
        {
          "output_type": "stream",
          "name": "stdout",
          "text": [
            "dict_items([('name', 'Manju'), ('div', 'D'), ('age', 24), ('gender', 'Female')])\n"
          ]
        }
      ]
    },
    {
      "cell_type": "code",
      "source": [
        "b=dict1.keys()\n",
        "print(b)"
      ],
      "metadata": {
        "colab": {
          "base_uri": "https://localhost:8080/"
        },
        "id": "YCNgAopp_UJV",
        "outputId": "222a2c95-873e-4374-d311-34dd6a30da02"
      },
      "execution_count": null,
      "outputs": [
        {
          "output_type": "stream",
          "name": "stdout",
          "text": [
            "dict_keys(['name', 'div', 'age', 'gender'])\n"
          ]
        }
      ]
    },
    {
      "cell_type": "code",
      "source": [
        "c=dict1.values()\n",
        "print(c)"
      ],
      "metadata": {
        "colab": {
          "base_uri": "https://localhost:8080/"
        },
        "id": "wnmHZ7L4_eHc",
        "outputId": "aee4e02b-913d-4d21-8338-9af7e241b2b7"
      },
      "execution_count": null,
      "outputs": [
        {
          "output_type": "stream",
          "name": "stdout",
          "text": [
            "dict_values(['Manju', 'D', 24, 'Female'])\n"
          ]
        }
      ]
    },
    {
      "cell_type": "code",
      "source": [
        "dict1[\"gender\"]=\"female\"\n",
        "print(dict1[\"gender\"])"
      ],
      "metadata": {
        "colab": {
          "base_uri": "https://localhost:8080/"
        },
        "id": "RP1MCdFw_lYb",
        "outputId": "41bfba66-a45a-460d-9259-89b040193626"
      },
      "execution_count": null,
      "outputs": [
        {
          "output_type": "stream",
          "name": "stdout",
          "text": [
            "female\n"
          ]
        }
      ]
    },
    {
      "cell_type": "code",
      "source": [
        "book={\"book\":\"Daybreak\",\"Price\":550,\"pages\":650}\n",
        "print(book)"
      ],
      "metadata": {
        "colab": {
          "base_uri": "https://localhost:8080/"
        },
        "id": "381_HNQm_1Pv",
        "outputId": "7c05b0c8-b1ad-44e2-8949-c98a970d10bf"
      },
      "execution_count": null,
      "outputs": [
        {
          "output_type": "stream",
          "name": "stdout",
          "text": [
            "{'book': 'Daybreak', 'Price': 550, 'pages': 650}\n"
          ]
        }
      ]
    },
    {
      "cell_type": "markdown",
      "source": [
        "Adding Key\n"
      ],
      "metadata": {
        "id": "n8418a6iAJZ-"
      }
    },
    {
      "cell_type": "code",
      "source": [
        "book[\"Author name\"]=\"Luis Lemon\"\n",
        "print(book)"
      ],
      "metadata": {
        "colab": {
          "base_uri": "https://localhost:8080/"
        },
        "id": "JPJlmp9qAL8e",
        "outputId": "cd535177-af7f-4a87-e559-b99d317f5013"
      },
      "execution_count": null,
      "outputs": [
        {
          "output_type": "stream",
          "name": "stdout",
          "text": [
            "{'book': 'Daybreak', 'Price': 550, 'pages': 650, 'Author name': 'Luis Lemon'}\n"
          ]
        }
      ]
    },
    {
      "cell_type": "markdown",
      "source": [
        "Printing Single Key"
      ],
      "metadata": {
        "id": "As2KB8SVAcF0"
      }
    },
    {
      "cell_type": "code",
      "source": [
        "print(book[\"pages\"])"
      ],
      "metadata": {
        "colab": {
          "base_uri": "https://localhost:8080/"
        },
        "id": "-r8UBeZNAgGk",
        "outputId": "44638f6e-9681-4161-9d08-cd22923cc4d1"
      },
      "execution_count": null,
      "outputs": [
        {
          "output_type": "stream",
          "name": "stdout",
          "text": [
            "650\n"
          ]
        }
      ]
    },
    {
      "cell_type": "code",
      "source": [
        "t=book.keys()\n",
        "print(t)\n",
        "print(type(t))"
      ],
      "metadata": {
        "colab": {
          "base_uri": "https://localhost:8080/"
        },
        "id": "PG_Efqc_Amoj",
        "outputId": "10eaf208-cc09-4c11-92ba-a58959d2845e"
      },
      "execution_count": null,
      "outputs": [
        {
          "output_type": "stream",
          "name": "stdout",
          "text": [
            "dict_keys(['book', 'Price', 'pages', 'Author name'])\n",
            "<class 'dict_keys'>\n"
          ]
        }
      ]
    },
    {
      "cell_type": "code",
      "source": [
        "m=book.items()\n",
        "print(m)"
      ],
      "metadata": {
        "colab": {
          "base_uri": "https://localhost:8080/"
        },
        "id": "3ryTokHaAy3L",
        "outputId": "d5423503-75a1-489b-d552-51e4f097b985"
      },
      "execution_count": null,
      "outputs": [
        {
          "output_type": "stream",
          "name": "stdout",
          "text": [
            "dict_items([('book', 'Daybreak'), ('Price', 550), ('pages', 650), ('Author name', 'Luis Lemon')])\n"
          ]
        }
      ]
    },
    {
      "cell_type": "code",
      "source": [
        "y=book.values()\n",
        "print(y)\n",
        "print(type(y))"
      ],
      "metadata": {
        "colab": {
          "base_uri": "https://localhost:8080/"
        },
        "id": "2ur8DJA7A5a2",
        "outputId": "c2096816-4902-4ab2-e0f4-fbd65a0a6e2b"
      },
      "execution_count": null,
      "outputs": [
        {
          "output_type": "stream",
          "name": "stdout",
          "text": [
            "dict_values(['Daybreak', 550, 650, 'Luis Lemon'])\n",
            "<class 'dict_values'>\n"
          ]
        }
      ]
    },
    {
      "cell_type": "code",
      "source": [
        "p=book.get(\"Prize\")\n",
        "print(p)"
      ],
      "metadata": {
        "colab": {
          "base_uri": "https://localhost:8080/"
        },
        "id": "fs8i-CqDBCW8",
        "outputId": "ff531d91-ff8f-44d0-b596-e3fe2df39153"
      },
      "execution_count": null,
      "outputs": [
        {
          "output_type": "stream",
          "name": "stdout",
          "text": [
            "None\n"
          ]
        }
      ]
    },
    {
      "cell_type": "code",
      "source": [
        "book.pop(\"book\")\n",
        "print(book)\n"
      ],
      "metadata": {
        "colab": {
          "base_uri": "https://localhost:8080/"
        },
        "id": "TWSeHnhwBMAR",
        "outputId": "dade6ac8-47e0-4053-8f11-6e4a07faec9e"
      },
      "execution_count": null,
      "outputs": [
        {
          "output_type": "stream",
          "name": "stdout",
          "text": [
            "{'Price': 550, 'pages': 650, 'Author name': 'Luis Lemon'}\n"
          ]
        }
      ]
    },
    {
      "cell_type": "code",
      "source": [
        "book.popitem()\n",
        "print(book)"
      ],
      "metadata": {
        "colab": {
          "base_uri": "https://localhost:8080/"
        },
        "id": "37M74QcHBW0x",
        "outputId": "fd4fa89b-91b8-4e84-d446-ea57fc5e2582"
      },
      "execution_count": null,
      "outputs": [
        {
          "output_type": "stream",
          "name": "stdout",
          "text": [
            "{'Price': 550, 'pages': 650}\n"
          ]
        }
      ]
    },
    {
      "cell_type": "code",
      "source": [
        "booknew=book.copy()\n",
        "print(booknew)"
      ],
      "metadata": {
        "colab": {
          "base_uri": "https://localhost:8080/"
        },
        "id": "gP7Tcku0BlE3",
        "outputId": "906c76ac-c5ac-4596-e8e2-73ffa17cd1bc"
      },
      "execution_count": null,
      "outputs": [
        {
          "output_type": "stream",
          "name": "stdout",
          "text": [
            "{'Price': 550, 'pages': 650}\n"
          ]
        }
      ]
    },
    {
      "cell_type": "code",
      "source": [
        "booknew.clear()\n",
        "print(booknew)\n"
      ],
      "metadata": {
        "colab": {
          "base_uri": "https://localhost:8080/"
        },
        "id": "jLIvkZTWBsSN",
        "outputId": "3cc8f545-4c6e-4d14-f122-fe93a714561a"
      },
      "execution_count": null,
      "outputs": [
        {
          "output_type": "stream",
          "name": "stdout",
          "text": [
            "{}\n"
          ]
        }
      ]
    },
    {
      "cell_type": "code",
      "source": [
        "del booknew\n",
        "print(booknew)"
      ],
      "metadata": {
        "colab": {
          "base_uri": "https://localhost:8080/",
          "height": 182
        },
        "id": "Hmbtgs6KB2FB",
        "outputId": "c2cf801f-d627-40e2-c2a5-cfeee677a414"
      },
      "execution_count": null,
      "outputs": [
        {
          "output_type": "error",
          "ename": "NameError",
          "evalue": "ignored",
          "traceback": [
            "\u001b[0;31m---------------------------------------------------------------------------\u001b[0m",
            "\u001b[0;31mNameError\u001b[0m                                 Traceback (most recent call last)",
            "\u001b[0;32m<ipython-input-17-2f40d5ab76b6>\u001b[0m in \u001b[0;36m<cell line: 2>\u001b[0;34m()\u001b[0m\n\u001b[1;32m      1\u001b[0m \u001b[0;32mdel\u001b[0m \u001b[0mbooknew\u001b[0m\u001b[0;34m\u001b[0m\u001b[0;34m\u001b[0m\u001b[0m\n\u001b[0;32m----> 2\u001b[0;31m \u001b[0mprint\u001b[0m\u001b[0;34m(\u001b[0m\u001b[0mbooknew\u001b[0m\u001b[0;34m)\u001b[0m\u001b[0;34m\u001b[0m\u001b[0;34m\u001b[0m\u001b[0m\n\u001b[0m",
            "\u001b[0;31mNameError\u001b[0m: name 'booknew' is not defined"
          ]
        }
      ]
    }
  ]
}