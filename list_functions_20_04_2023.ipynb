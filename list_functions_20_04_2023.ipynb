{
  "nbformat": 4,
  "nbformat_minor": 0,
  "metadata": {
    "colab": {
      "provenance": [],
      "authorship_tag": "ABX9TyPehKNB7Rzu/82TvOapXuTI",
      "include_colab_link": true
    },
    "kernelspec": {
      "name": "python3",
      "display_name": "Python 3"
    },
    "language_info": {
      "name": "python"
    }
  },
  "cells": [
    {
      "cell_type": "markdown",
      "metadata": {
        "id": "view-in-github",
        "colab_type": "text"
      },
      "source": [
        "<a href=\"https://colab.research.google.com/github/Kali-Raut/EDS-ACTIVITY/blob/main/list_functions_20_04_2023.ipynb\" target=\"_parent\"><img src=\"https://colab.research.google.com/assets/colab-badge.svg\" alt=\"Open In Colab\"/></a>"
      ]
    },
    {
      "cell_type": "code",
      "execution_count": null,
      "metadata": {
        "colab": {
          "base_uri": "https://localhost:8080/"
        },
        "id": "GL4QaMbREjML",
        "outputId": "e9c55448-d669-4e36-8724-0704dd40e153"
      },
      "outputs": [
        {
          "output_type": "stream",
          "name": "stdout",
          "text": [
            "[['Name', 'Position'], ['Aman', 'Sub-Manager'], ['Sam', 'Sub-Manager'], ['Jake', 'Manager'], ['Leon', 'Engineer'], ['Peter', 'Engineer'], ['Amili', 'Sub-Manager'], ['Copper', 'Manager'], ['Kira', 'Engineer']]\n"
          ]
        }
      ],
      "source": [
        "import csv\n",
        "file= open('/content/Employee Data - Sheet1.csv','r')\n",
        "data1=list(csv.reader(file,delimiter=','))\n",
        "print(data1)\n",
        "file.close()"
      ]
    },
    {
      "cell_type": "code",
      "source": [
        "import csv\n",
        "file= open('/content/empoyee salary - Sheet1.csv','r')\n",
        "data2=list(csv.reader(file,delimiter=','))\n",
        "print(data2)\n",
        "file.close()"
      ],
      "metadata": {
        "colab": {
          "base_uri": "https://localhost:8080/"
        },
        "id": "lJBkD6KaIbjZ",
        "outputId": "e54145fa-ea2f-469c-c664-425e69e6c210"
      },
      "execution_count": null,
      "outputs": [
        {
          "output_type": "stream",
          "name": "stdout",
          "text": [
            "[['ID', 'Salary'], ['480', '20000'], ['481', '25000'], ['482', '35000'], ['483', '80000'], ['484', '70000'], ['485', '25000'], ['486', '45000'], ['487', '15000']]\n"
          ]
        }
      ]
    },
    {
      "cell_type": "code",
      "source": [
        "mylist=[]\n",
        "for i in range(len(data1)):\n",
        "  mylist.append(data1[i]+data2[i])\n",
        "print(mylist)"
      ],
      "metadata": {
        "colab": {
          "base_uri": "https://localhost:8080/"
        },
        "id": "GTiC3d1FImkM",
        "outputId": "c10143a6-bf48-4528-92c2-e58f04d2699c"
      },
      "execution_count": null,
      "outputs": [
        {
          "output_type": "stream",
          "name": "stdout",
          "text": [
            "[['Name', 'Position', 'ID', 'Salary'], ['Aman', 'Sub-Manager', '480', '20000'], ['Sam', 'Sub-Manager', '481', '25000'], ['Jake', 'Manager', '482', '35000'], ['Leon', 'Engineer', '483', '80000'], ['Peter', 'Engineer', '484', '70000'], ['Amili', 'Sub-Manager', '485', '25000'], ['Copper', 'Manager', '486', '45000'], ['Kira', 'Engineer', '487', '15000']]\n"
          ]
        }
      ]
    },
    {
      "cell_type": "code",
      "source": [
        "sal=[]\n",
        "for i in range(1,len(mylist)):\n",
        "   sal.append(int(mylist[i][2]))\n",
        "print(\"Addition of sal is\",sum(sal))"
      ],
      "metadata": {
        "colab": {
          "base_uri": "https://localhost:8080/"
        },
        "id": "oRxgZetoJIyb",
        "outputId": "949b44c5-2547-49c0-d94f-3f380528e4d3"
      },
      "execution_count": null,
      "outputs": [
        {
          "output_type": "stream",
          "name": "stdout",
          "text": [
            "Addition of sal is 3868\n"
          ]
        }
      ]
    },
    {
      "cell_type": "code",
      "source": [
        "l=len(mylist)\n",
        "sal=[]\n",
        "for i in range(1,l):\n",
        "   sal.append(int(mylist[i][3]))\n",
        "print(\"Maximum sal is \",max(sal))"
      ],
      "metadata": {
        "colab": {
          "base_uri": "https://localhost:8080/"
        },
        "id": "KbqkhAlwKZUG",
        "outputId": "632bc96c-298f-4bf5-e5e0-483b02c2233d"
      },
      "execution_count": null,
      "outputs": [
        {
          "output_type": "stream",
          "name": "stdout",
          "text": [
            "Maximum sal is  80000\n"
          ]
        }
      ]
    },
    {
      "cell_type": "code",
      "source": [
        "l=len(mylist)\n",
        "sal=[]\n",
        "for i in range(1,l):\n",
        "   sal.append(int(mylist[i][3]))\n",
        "print(\"Minimum sal is \",min(sal))"
      ],
      "metadata": {
        "colab": {
          "base_uri": "https://localhost:8080/"
        },
        "id": "Fu6hf_ivNoBa",
        "outputId": "cca1e051-8085-42bd-fcf6-27243417f969"
      },
      "execution_count": null,
      "outputs": [
        {
          "output_type": "stream",
          "name": "stdout",
          "text": [
            "Minimum sal is  15000\n"
          ]
        }
      ]
    },
    {
      "cell_type": "markdown",
      "source": [
        "Lamda Functions\n"
      ],
      "metadata": {
        "id": "ZtoDTcL-NOOl"
      }
    },
    {
      "cell_type": "code",
      "source": [
        "#x is the name of finction\n",
        "x=lambda a:a+10\n",
        "print(x(2))"
      ],
      "metadata": {
        "colab": {
          "base_uri": "https://localhost:8080/"
        },
        "id": "_TsL_IO_NaeG",
        "outputId": "640b1b5c-5851-47e1-ab5f-0a01bc5a30f4"
      },
      "execution_count": null,
      "outputs": [
        {
          "output_type": "stream",
          "name": "stdout",
          "text": [
            "12\n"
          ]
        }
      ]
    },
    {
      "cell_type": "code",
      "source": [
        "x=lambda a:a*a\n",
        "print(x(5))"
      ],
      "metadata": {
        "colab": {
          "base_uri": "https://localhost:8080/"
        },
        "id": "X6jn688IPQbI",
        "outputId": "264e8687-37e4-4c29-9c27-8a16b6ff38d5"
      },
      "execution_count": null,
      "outputs": [
        {
          "output_type": "stream",
          "name": "stdout",
          "text": [
            "25\n"
          ]
        }
      ]
    },
    {
      "cell_type": "code",
      "source": [
        "\n",
        "mylist.sort(key=lambda x: x[1])\n",
        "print(mylist)"
      ],
      "metadata": {
        "colab": {
          "base_uri": "https://localhost:8080/"
        },
        "id": "pkL23MFfQIwH",
        "outputId": "b9860909-4ee9-425d-9712-4d8838f2e52e"
      },
      "execution_count": null,
      "outputs": [
        {
          "output_type": "stream",
          "name": "stdout",
          "text": [
            "[['Kira', 'Engineer', '487', '15000'], ['Leon', 'Engineer', '483', '80000'], ['Peter', 'Engineer', '484', '70000'], ['Copper', 'Manager', '486', '45000'], ['Jake', 'Manager', '482', '35000'], ['Name', 'Position', 'ID', 'Salary'], ['Aman', 'Sub-Manager', '480', '20000'], ['Amili', 'Sub-Manager', '485', '25000'], ['Sam', 'Sub-Manager', '481', '25000']]\n"
          ]
        }
      ]
    },
    {
      "cell_type": "code",
      "source": [
        "#sort the merged list based on name\n",
        "mylist.sort(key=lambda x: x[0])\n",
        "print(mylist)"
      ],
      "metadata": {
        "colab": {
          "base_uri": "https://localhost:8080/"
        },
        "id": "W7uMAkojPgp0",
        "outputId": "a1d2a328-e456-4900-946f-20ae19ee41ac"
      },
      "execution_count": null,
      "outputs": [
        {
          "output_type": "stream",
          "name": "stdout",
          "text": [
            "[['Aman', 'Sub-Manager', '480', '20000'], ['Amili', 'Sub-Manager', '485', '25000'], ['Copper', 'Manager', '486', '45000'], ['Jake', 'Manager', '482', '35000'], ['Kira', 'Engineer', '487', '15000'], ['Leon', 'Engineer', '483', '80000'], ['Peter', 'Engineer', '484', '70000'], ['Sam', 'Sub-Manager', '481', '25000']]\n"
          ]
        }
      ]
    },
    {
      "cell_type": "code",
      "source": [
        "mylist.pop(5)"
      ],
      "metadata": {
        "colab": {
          "base_uri": "https://localhost:8080/"
        },
        "id": "2VJVsyNgQzLN",
        "outputId": "56e54e8f-6fb1-4d19-f911-95b164b59a21"
      },
      "execution_count": null,
      "outputs": [
        {
          "output_type": "execute_result",
          "data": {
            "text/plain": [
              "['Name', 'Position', 'ID', 'Salary']"
            ]
          },
          "metadata": {},
          "execution_count": 28
        }
      ]
    },
    {
      "cell_type": "code",
      "source": [
        "\n",
        "mylist.sort(key=lambda x:int(x[3]))\n",
        "print(mylist)"
      ],
      "metadata": {
        "colab": {
          "base_uri": "https://localhost:8080/"
        },
        "id": "AzIq7IBGRnf8",
        "outputId": "9ed78e94-7d04-488f-ba5e-d74aac85a67c"
      },
      "execution_count": null,
      "outputs": [
        {
          "output_type": "stream",
          "name": "stdout",
          "text": [
            "[['Kira', 'Engineer', '487', '15000'], ['Aman', 'Sub-Manager', '480', '20000'], ['Sam', 'Sub-Manager', '481', '25000'], ['Amili', 'Sub-Manager', '485', '25000'], ['Jake', 'Manager', '482', '35000'], ['Copper', 'Manager', '486', '45000'], ['Peter', 'Engineer', '484', '70000'], ['Leon', 'Engineer', '483', '80000'], ['a', 'Engineer', '480', '120000']]\n"
          ]
        }
      ]
    },
    {
      "cell_type": "code",
      "source": [
        "mylist.append(['a','Engineer','480','120000'])"
      ],
      "metadata": {
        "id": "yOjrweOfSFNt"
      },
      "execution_count": null,
      "outputs": []
    },
    {
      "cell_type": "code",
      "source": [
        "#sort the merged list based on salary and display the first five highest salary\n",
        "#highest paid salary employee details\n",
        "mylist.sort(key=lambda x:int(x[3]),reverse=True)\n",
        "\n",
        "for i in range(5):\n",
        "  print(mylist[i])\n",
        "\n"
      ],
      "metadata": {
        "colab": {
          "base_uri": "https://localhost:8080/"
        },
        "id": "qBbvWaTmTR6K",
        "outputId": "b5b7fdac-683e-476c-d3fc-b1b5cf9b396d"
      },
      "execution_count": null,
      "outputs": [
        {
          "output_type": "stream",
          "name": "stdout",
          "text": [
            "['a', 'Engineer', '480', '120000']\n",
            "['a', 'Engineer', '480', '120000']\n",
            "['Leon', 'Engineer', '483', '80000']\n",
            "['Peter', 'Engineer', '484', '70000']\n",
            "['Copper', 'Manager', '486', '45000']\n"
          ]
        }
      ]
    },
    {
      "cell_type": "code",
      "source": [],
      "metadata": {
        "id": "z87z4by4XFR6"
      },
      "execution_count": null,
      "outputs": []
    }
  ]
}