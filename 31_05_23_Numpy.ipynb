{
  "nbformat": 4,
  "nbformat_minor": 0,
  "metadata": {
    "colab": {
      "provenance": [],
      "authorship_tag": "ABX9TyOYmnGyOJxuPr0ILdhvCod4",
      "include_colab_link": true
    },
    "kernelspec": {
      "name": "python3",
      "display_name": "Python 3"
    },
    "language_info": {
      "name": "python"
    }
  },
  "cells": [
    {
      "cell_type": "markdown",
      "metadata": {
        "id": "view-in-github",
        "colab_type": "text"
      },
      "source": [
        "<a href=\"https://colab.research.google.com/github/Kali-Raut/EDS-ACTIVITY/blob/main/31_05_23_Numpy.ipynb\" target=\"_parent\"><img src=\"https://colab.research.google.com/assets/colab-badge.svg\" alt=\"Open In Colab\"/></a>"
      ]
    },
    {
      "cell_type": "code",
      "execution_count": null,
      "metadata": {
        "colab": {
          "base_uri": "https://localhost:8080/"
        },
        "id": "gFDdbkeB3aTZ",
        "outputId": "f4e6b2ae-4c78-4d01-e7dd-0b3cc72ee169"
      },
      "outputs": [
        {
          "output_type": "stream",
          "name": "stdout",
          "text": [
            "[5 7 9]\n"
          ]
        }
      ],
      "source": [
        "import numpy as np\n",
        "a=np.array([1,2,3])\n",
        "b=np.array([4,5,6])\n",
        "c=a+b\n",
        "print(c)"
      ]
    },
    {
      "cell_type": "code",
      "source": [
        "\n",
        "a=np.array([7,7,5])\n",
        "b=np.array([4,5,6])\n",
        "c=a-b\n",
        "print(c)"
      ],
      "metadata": {
        "colab": {
          "base_uri": "https://localhost:8080/"
        },
        "id": "-mlBdc0J4pM8",
        "outputId": "01f7169a-efc0-42bb-f76e-f4c7881aba08"
      },
      "execution_count": null,
      "outputs": [
        {
          "output_type": "stream",
          "name": "stdout",
          "text": [
            "[ 3  2 -1]\n"
          ]
        }
      ]
    },
    {
      "cell_type": "code",
      "source": [
        "\n",
        "a=np.array([7,7,5])\n",
        "b=np.array([4,5,6])\n",
        "c=a*b\n",
        "print(c)"
      ],
      "metadata": {
        "colab": {
          "base_uri": "https://localhost:8080/"
        },
        "id": "dYxqMPyw4pWQ",
        "outputId": "b4797106-e9a1-4869-86d3-2196724cd6ee"
      },
      "execution_count": null,
      "outputs": [
        {
          "output_type": "stream",
          "name": "stdout",
          "text": [
            "[28 35 30]\n"
          ]
        }
      ]
    },
    {
      "cell_type": "code",
      "source": [
        "\n",
        "a=np.array([12,20,19])\n",
        "b=np.array([4,2,6])\n",
        "c=a/b\n",
        "print(c)"
      ],
      "metadata": {
        "colab": {
          "base_uri": "https://localhost:8080/"
        },
        "id": "6HYBd6Y448N5",
        "outputId": "71fafb93-73a8-4bcb-9763-aba7cd9e6d1b"
      },
      "execution_count": null,
      "outputs": [
        {
          "output_type": "stream",
          "name": "stdout",
          "text": [
            "[ 3.         10.          3.16666667]\n"
          ]
        }
      ]
    },
    {
      "cell_type": "code",
      "source": [
        "a=np.array([12,20,19])\n",
        "result=np.mean(a)\n",
        "print(result)\n"
      ],
      "metadata": {
        "colab": {
          "base_uri": "https://localhost:8080/"
        },
        "id": "s_QFhMVd5Iya",
        "outputId": "ab036c29-3b62-425c-f149-8864806cbd9a"
      },
      "execution_count": null,
      "outputs": [
        {
          "output_type": "stream",
          "name": "stdout",
          "text": [
            "17.0\n"
          ]
        }
      ]
    },
    {
      "cell_type": "code",
      "source": [
        "rl=np.median(a)\n",
        "print(rl)"
      ],
      "metadata": {
        "colab": {
          "base_uri": "https://localhost:8080/"
        },
        "id": "aN2ezKJt5YfD",
        "outputId": "68e01ef8-7298-4e76-ae17-63a60e54e8ad"
      },
      "execution_count": null,
      "outputs": [
        {
          "output_type": "stream",
          "name": "stdout",
          "text": [
            "14.0\n"
          ]
        }
      ]
    },
    {
      "cell_type": "code",
      "source": [
        "arrl=np.copy(a)\n",
        "print(arrl[0])"
      ],
      "metadata": {
        "colab": {
          "base_uri": "https://localhost:8080/"
        },
        "id": "zr6nsFrt7ZqE",
        "outputId": "43bce40e-a689-433a-e5e7-97c47116576d"
      },
      "execution_count": null,
      "outputs": [
        {
          "output_type": "stream",
          "name": "stdout",
          "text": [
            "12\n"
          ]
        }
      ]
    },
    {
      "cell_type": "code",
      "source": [
        "np.sort(arrl)"
      ],
      "metadata": {
        "colab": {
          "base_uri": "https://localhost:8080/"
        },
        "id": "CiF0Cwk37sXL",
        "outputId": "e652c003-a08a-4d65-81e0-79ca1e6e09e9"
      },
      "execution_count": null,
      "outputs": [
        {
          "output_type": "execute_result",
          "data": {
            "text/plain": [
              "array([12, 19, 20])"
            ]
          },
          "metadata": {},
          "execution_count": 18
        }
      ]
    },
    {
      "cell_type": "markdown",
      "source": [
        "Create two matrix and perform addition,Multiplication,Substraction,and Division"
      ],
      "metadata": {
        "id": "ecqlN3FKCw0u"
      }
    },
    {
      "cell_type": "code",
      "source": [
        "a=np.array([[1,3],[2,4]])\n",
        "b=np.array([[6,2],[8,1]])\n",
        "print(\"Addition\")\n",
        "print(np.add(a,b))\n",
        "print(\"Substraction\")\n",
        "print(np.subtract(a,b))\n",
        "print(\"Division\")\n",
        "print(np.divide(a,b))\n",
        "print(\"Multilpication\")\n",
        "print(np.multiply(a,b))"
      ],
      "metadata": {
        "colab": {
          "base_uri": "https://localhost:8080/"
        },
        "id": "i2TpjMF_AzRU",
        "outputId": "268c6f26-6f70-447e-af89-3a8b3617cc62"
      },
      "execution_count": null,
      "outputs": [
        {
          "output_type": "stream",
          "name": "stdout",
          "text": [
            "Addition\n",
            "[[ 7  5]\n",
            " [10  5]]\n",
            "Substraction\n",
            "[[-5  1]\n",
            " [-6  3]]\n",
            "Division\n",
            "[[0.16666667 1.5       ]\n",
            " [0.25       4.        ]]\n",
            "Multilpication\n",
            "[[ 6  6]\n",
            " [16  4]]\n"
          ]
        }
      ]
    },
    {
      "cell_type": "code",
      "source": [
        "#addition of all element\n",
        "print(np.sum(a))"
      ],
      "metadata": {
        "colab": {
          "base_uri": "https://localhost:8080/"
        },
        "id": "90nPjPrPEe2N",
        "outputId": "0296e46f-639a-4e39-a8c3-79927cdd0ae4"
      },
      "execution_count": null,
      "outputs": [
        {
          "output_type": "stream",
          "name": "stdout",
          "text": [
            "10\n"
          ]
        }
      ]
    },
    {
      "cell_type": "code",
      "source": [
        "#axis=0 is column addition\n",
        "(np.sum(a,axis=0))"
      ],
      "metadata": {
        "colab": {
          "base_uri": "https://localhost:8080/"
        },
        "id": "xrxh7cuoBaKb",
        "outputId": "f2cd7871-bf54-4aa4-f421-0bee23204488"
      },
      "execution_count": null,
      "outputs": [
        {
          "output_type": "execute_result",
          "data": {
            "text/plain": [
              "array([3, 7])"
            ]
          },
          "metadata": {},
          "execution_count": 30
        }
      ]
    },
    {
      "cell_type": "code",
      "source": [
        "#axis=0 is row addition\n",
        "(np.sum(a,axis=1))"
      ],
      "metadata": {
        "colab": {
          "base_uri": "https://localhost:8080/"
        },
        "id": "IebTozS2GSok",
        "outputId": "28941b0b-8daf-4df5-f331-ab2013d6a3b4"
      },
      "execution_count": null,
      "outputs": [
        {
          "output_type": "execute_result",
          "data": {
            "text/plain": [
              "array([4, 6])"
            ]
          },
          "metadata": {},
          "execution_count": 31
        }
      ]
    },
    {
      "cell_type": "code",
      "source": [
        "#Transpose:row changes to column and cloumn to rows\n",
        "print(a.T)"
      ],
      "metadata": {
        "colab": {
          "base_uri": "https://localhost:8080/"
        },
        "id": "hwPylSUeGbOc",
        "outputId": "7b1bb5b8-1874-4c02-cbdf-81d8672c8a9e"
      },
      "execution_count": null,
      "outputs": [
        {
          "output_type": "stream",
          "name": "stdout",
          "text": [
            "[[1 2]\n",
            " [3 4]]\n"
          ]
        }
      ]
    },
    {
      "cell_type": "code",
      "source": [
        "#Print an single element from matrix\n",
        "#row and column indexing starts from zero(0)\n",
        "a=np.array([[1,2,10],[3,4,15]])\n",
        "print(a[1][2])"
      ],
      "metadata": {
        "colab": {
          "base_uri": "https://localhost:8080/"
        },
        "id": "yCzVzVzQHESE",
        "outputId": "2ad25456-d4d1-4507-e3ea-02baf0935da7"
      },
      "execution_count": null,
      "outputs": [
        {
          "output_type": "stream",
          "name": "stdout",
          "text": [
            "15\n"
          ]
        }
      ]
    },
    {
      "cell_type": "code",
      "source": [
        "d=np.array([[1,2,10,15,20],[3,4,15,2,10],[10,20,30,40,50]])\n",
        "print(d[1][2:])\n",
        "print(d[1:][1])"
      ],
      "metadata": {
        "colab": {
          "base_uri": "https://localhost:8080/"
        },
        "id": "Ix0T8B9CIHXd",
        "outputId": "a1c9b859-e100-40bf-8b92-13beb90e3b42"
      },
      "execution_count": null,
      "outputs": [
        {
          "output_type": "stream",
          "name": "stdout",
          "text": [
            "[15  2 10]\n",
            "[10 20 30 40 50]\n"
          ]
        }
      ]
    },
    {
      "cell_type": "code",
      "source": [
        "import numpy as np\n",
        "d=np.array([[1,2,10,15,20],[3,4,15,2,10],[10,20,30,40,50],[122,144,134,123,121]])\n",
        "print(np.sum(d,axis=1))#addition of rows\n",
        "print(np.sum(d,axis=0))#addition of column\n",
        "print(d[2][1:4])#slicing\n",
        "print(d[1:4,3:4])\n",
        "print(d[:,:])#Full matrix printing\n",
        "print(d[2:4,1:3])\n",
        "print(d[:4,3:])#printing last 2 column\n",
        "\n",
        "\n"
      ],
      "metadata": {
        "colab": {
          "base_uri": "https://localhost:8080/"
        },
        "id": "FsBlxizqZ7Si",
        "outputId": "0a3a5670-8d78-4a74-f0f7-606828ddc247"
      },
      "execution_count": null,
      "outputs": [
        {
          "output_type": "stream",
          "name": "stdout",
          "text": [
            "[ 48  34 150 644]\n",
            "[136 170 189 180 201]\n",
            "[20 30 40]\n",
            "[[  2]\n",
            " [ 40]\n",
            " [123]]\n",
            "[[  1   2  10  15  20]\n",
            " [  3   4  15   2  10]\n",
            " [ 10  20  30  40  50]\n",
            " [122 144 134 123 121]]\n",
            "[[ 20  30]\n",
            " [144 134]]\n",
            "[[ 15  20]\n",
            " [  2  10]\n",
            " [ 40  50]\n",
            " [123 121]]\n"
          ]
        }
      ]
    },
    {
      "cell_type": "code",
      "source": [
        "e=np.sort(d)#for storing sorted data\n",
        "print(d)\n",
        "print(e)"
      ],
      "metadata": {
        "colab": {
          "base_uri": "https://localhost:8080/"
        },
        "id": "9dZEO2D6cC5L",
        "outputId": "d5abf8d2-f5bf-41e1-d46b-cf37eb14a0cc"
      },
      "execution_count": null,
      "outputs": [
        {
          "output_type": "stream",
          "name": "stdout",
          "text": [
            "[[  1   2  10  15  20]\n",
            " [  3   4  15   2  10]\n",
            " [ 10  20  30  40  50]\n",
            " [122 144 134 123 121]]\n",
            "[[  1   2  10  15  20]\n",
            " [  2   3   4  10  15]\n",
            " [ 10  20  30  40  50]\n",
            " [121 122 123 134 144]]\n"
          ]
        }
      ]
    },
    {
      "cell_type": "code",
      "source": [
        "print(np.sum(d[:,-1]))#Addition of last column"
      ],
      "metadata": {
        "colab": {
          "base_uri": "https://localhost:8080/"
        },
        "id": "IkTt6tzzlZG6",
        "outputId": "9cfd6bf1-b423-4e20-eb1e-c1c2525a6e8e"
      },
      "execution_count": null,
      "outputs": [
        {
          "output_type": "stream",
          "name": "stdout",
          "text": [
            "201\n"
          ]
        }
      ]
    },
    {
      "cell_type": "code",
      "source": [
        "m=np.array([10,20,30,40])\n",
        "print(m[m<20])     #printing all elements less than 20\n",
        "print(m*2)         #printing elements of m multipled by 2\n",
        "m.max()            #printing the biggest element"
      ],
      "metadata": {
        "colab": {
          "base_uri": "https://localhost:8080/"
        },
        "id": "3o87sW53oHEP",
        "outputId": "ba2ee5be-f616-4eb4-b1ed-281c8edaef37"
      },
      "execution_count": null,
      "outputs": [
        {
          "output_type": "stream",
          "name": "stdout",
          "text": [
            "[10]\n",
            "[20 40 60 80]\n"
          ]
        },
        {
          "output_type": "execute_result",
          "data": {
            "text/plain": [
              "40"
            ]
          },
          "metadata": {},
          "execution_count": 80
        }
      ]
    },
    {
      "cell_type": "code",
      "source": [
        "d.max()             #largest element in d 2d array(matrix)"
      ],
      "metadata": {
        "colab": {
          "base_uri": "https://localhost:8080/"
        },
        "id": "DJMRUTdfp6LR",
        "outputId": "3bfedad4-53da-4fca-bec8-1875f933eee0"
      },
      "execution_count": null,
      "outputs": [
        {
          "output_type": "execute_result",
          "data": {
            "text/plain": [
              "144"
            ]
          },
          "metadata": {},
          "execution_count": 90
        }
      ]
    },
    {
      "cell_type": "code",
      "source": [
        "r=m.argmax()\n",
        "print(r)"
      ],
      "metadata": {
        "colab": {
          "base_uri": "https://localhost:8080/"
        },
        "id": "rHdzZqFMr9NX",
        "outputId": "d9a808c7-ff57-4ca4-aaab-4707452f6831"
      },
      "execution_count": null,
      "outputs": [
        {
          "output_type": "stream",
          "name": "stdout",
          "text": [
            "3\n"
          ]
        }
      ]
    },
    {
      "cell_type": "code",
      "source": [],
      "metadata": {
        "id": "IbbdhigyAQfF"
      },
      "execution_count": null,
      "outputs": []
    }
  ]
}