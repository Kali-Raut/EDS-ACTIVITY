{
  "nbformat": 4,
  "nbformat_minor": 0,
  "metadata": {
    "colab": {
      "provenance": [],
      "authorship_tag": "ABX9TyNgRAQyIHcb774nmYy3L/YK",
      "include_colab_link": true
    },
    "kernelspec": {
      "name": "python3",
      "display_name": "Python 3"
    },
    "language_info": {
      "name": "python"
    }
  },
  "cells": [
    {
      "cell_type": "markdown",
      "metadata": {
        "id": "view-in-github",
        "colab_type": "text"
      },
      "source": [
        "<a href=\"https://colab.research.google.com/github/Kali-Raut/EDS-ACTIVITY/blob/main/file_Operations_12_4_2023.ipynb\" target=\"_parent\"><img src=\"https://colab.research.google.com/assets/colab-badge.svg\" alt=\"Open In Colab\"/></a>"
      ]
    },
    {
      "cell_type": "code",
      "execution_count": null,
      "metadata": {
        "colab": {
          "base_uri": "https://localhost:8080/"
        },
        "id": "cqjUY1HTrVAt",
        "outputId": "6eba017c-fc2b-4809-bf61-7eee28cd4adf"
      },
      "outputs": [
        {
          "output_type": "stream",
          "name": "stdout",
          "text": [
            "Roll No,Marks ,Year\n",
            "1,50,FY\n",
            "2,23,FY\n",
            "3,45,FY\n",
            "4,50,FY\n",
            "5,23,FY\n",
            "6,32,SY\n",
            "7,25,SY\n",
            "8,15,SY\n",
            "9,24,SY\n",
            "10,36,SY\n"
          ]
        }
      ],
      "source": [
        "file= open('/content/StudentData - Sheet1.csv','r')\n",
        "print(file.read())\n",
        "file.close()"
      ]
    },
    {
      "cell_type": "code",
      "source": [
        "file=open('/content/StudentData - Sheet1.csv','w')\n",
        "msg='12,\"priya\",34,'\n",
        "file.write(msg)\n",
        "file=open('/content/StudentData - Sheet1.csv','r')\n",
        "print(file.read())\n",
        "file.close()\n",
        "\n",
        "\n",
        "\n"
      ],
      "metadata": {
        "id": "xGh017oZsifW",
        "colab": {
          "base_uri": "https://localhost:8080/"
        },
        "outputId": "a1aed0ab-17e0-4df7-f851-2767344721a6"
      },
      "execution_count": null,
      "outputs": [
        {
          "output_type": "stream",
          "name": "stdout",
          "text": [
            "12,\"priya\",34,\n"
          ]
        }
      ]
    },
    {
      "cell_type": "code",
      "source": [
        "file=open('/content/StudentData - Sheet1.csv','a')\n",
        "ola='13,\"Kali\",24'\n",
        "file.write(ola)\n",
        "file.close()\n"
      ],
      "metadata": {
        "id": "iECNy0TNt_AE"
      },
      "execution_count": null,
      "outputs": []
    },
    {
      "cell_type": "code",
      "source": [
        "import csv\n",
        "file= open('/content/STUDENT MARKS DATA - Sheet1.csv','r')\n",
        "data=list(csv.reader(file,delimiter=','))\n",
        "file.close()\n",
        "print(data)\n",
        "print(type(data))\n",
        "print(data[0])"
      ],
      "metadata": {
        "colab": {
          "base_uri": "https://localhost:8080/"
        },
        "id": "al1Xrp5BvAsU",
        "outputId": "084a9142-a7b3-437e-e07f-eb108167dd7d"
      },
      "execution_count": null,
      "outputs": [
        {
          "output_type": "stream",
          "name": "stdout",
          "text": [
            "[['Roll No', 'Marks', 'Year'], ['1', '45', 'FY'], ['2', '34', 'SY'], ['3', '23', 'FY'], ['4', '54', 'SY'], ['5', '23', 'SY'], ['6', '65', 'FY'], ['7', '76', 'FY'], ['8', '45', 'FY'], ['9', '56', 'SY'], ['10', '64', 'SY']]\n",
            "<class 'list'>\n",
            "['Roll No', 'Marks', 'Year']\n"
          ]
        }
      ]
    },
    {
      "cell_type": "code",
      "source": [
        "import csv\n",
        "file=open('/content/StudentData - Sheet1.csv','r')\n",
        "data1=list(csv.reader(file,delimiter=','))\n",
        "file.close()\n",
        "print(data1)"
      ],
      "metadata": {
        "colab": {
          "base_uri": "https://localhost:8080/"
        },
        "id": "XnRtvdIi4xUY",
        "outputId": "3713ddbd-9925-41e9-cf9d-a19e09ff99a6"
      },
      "execution_count": null,
      "outputs": [
        {
          "output_type": "stream",
          "name": "stdout",
          "text": [
            "[['12', 'priya', '34', '13', 'Kali', '24']]\n"
          ]
        }
      ]
    },
    {
      "cell_type": "code",
      "source": [
        "import csv\n",
        "file=open('/content/PLACEMENT.csv','r')\n",
        "data2=list(csv.reader(file,delimiter=','))\n",
        "file.close()\n",
        "print(data2)"
      ],
      "metadata": {
        "colab": {
          "base_uri": "https://localhost:8080/"
        },
        "id": "rGHz2Qlw6q7m",
        "outputId": "722c8076-2938-4f6c-a81e-72661f29393b"
      },
      "execution_count": null,
      "outputs": [
        {
          "output_type": "stream",
          "name": "stdout",
          "text": [
            "[['PRN', 'PACKAGE'], ['60056', '100000'], ['60064', '200000'], ['60068', '300000'], ['60078', '400000'], ['60084', '500000']]\n"
          ]
        }
      ]
    },
    {
      "cell_type": "code",
      "source": [
        "\n",
        "\n",
        "print(int(data[1][1])+int(data[2][1]))\n",
        "\n"
      ],
      "metadata": {
        "colab": {
          "base_uri": "https://localhost:8080/"
        },
        "id": "sbQ8IlFcFcxF",
        "outputId": "577368d6-1a5b-400a-b815-607e87bac101"
      },
      "execution_count": null,
      "outputs": [
        {
          "output_type": "stream",
          "name": "stdout",
          "text": [
            "79\n"
          ]
        }
      ]
    },
    {
      "cell_type": "code",
      "source": [
        "sum=0\n",
        "for i in range(1,len(data)):\n",
        "  sum=int(sum)+int(data[i][1])\n",
        "print('The sum of marks is ',sum)"
      ],
      "metadata": {
        "colab": {
          "base_uri": "https://localhost:8080/"
        },
        "id": "OJI6rQjZPZ7S",
        "outputId": "72e6f5aa-a3a2-4339-866a-b49d862e6448"
      },
      "execution_count": null,
      "outputs": [
        {
          "output_type": "stream",
          "name": "stdout",
          "text": [
            "The sum of marks is  485\n"
          ]
        }
      ]
    },
    {
      "cell_type": "code",
      "source": [
        "print(len(data))"
      ],
      "metadata": {
        "colab": {
          "base_uri": "https://localhost:8080/"
        },
        "id": "1Bq7C7NdPOqm",
        "outputId": "f1ab4ce1-f5da-4207-c20b-75171c4243df"
      },
      "execution_count": null,
      "outputs": [
        {
          "output_type": "stream",
          "name": "stdout",
          "text": [
            "11\n"
          ]
        }
      ]
    },
    {
      "cell_type": "code",
      "source": [
        "import csv\n",
        "file= open('/content/student name - Sheet1.csv','r')\n",
        "data1=list(csv.reader(file,delimiter=','))\n",
        "file.close()\n",
        "print(data1)\n",
        "print(type(data1))\n",
        "print(data[0])\n"
      ],
      "metadata": {
        "colab": {
          "base_uri": "https://localhost:8080/",
          "height": 252
        },
        "id": "6U5GeacRSxqt",
        "outputId": "caf17db6-375c-4cbd-fc6b-03f873611c75"
      },
      "execution_count": null,
      "outputs": [
        {
          "output_type": "error",
          "ename": "FileNotFoundError",
          "evalue": "ignored",
          "traceback": [
            "\u001b[0;31m---------------------------------------------------------------------------\u001b[0m",
            "\u001b[0;31mFileNotFoundError\u001b[0m                         Traceback (most recent call last)",
            "\u001b[0;32m<ipython-input-10-408c3a091c0a>\u001b[0m in \u001b[0;36m<cell line: 2>\u001b[0;34m()\u001b[0m\n\u001b[1;32m      1\u001b[0m \u001b[0;32mimport\u001b[0m \u001b[0mcsv\u001b[0m\u001b[0;34m\u001b[0m\u001b[0;34m\u001b[0m\u001b[0m\n\u001b[0;32m----> 2\u001b[0;31m \u001b[0mfile\u001b[0m\u001b[0;34m=\u001b[0m \u001b[0mopen\u001b[0m\u001b[0;34m(\u001b[0m\u001b[0;34m'/content/student name - Sheet1.csv'\u001b[0m\u001b[0;34m,\u001b[0m\u001b[0;34m'r'\u001b[0m\u001b[0;34m)\u001b[0m\u001b[0;34m\u001b[0m\u001b[0;34m\u001b[0m\u001b[0m\n\u001b[0m\u001b[1;32m      3\u001b[0m \u001b[0mdata1\u001b[0m\u001b[0;34m=\u001b[0m\u001b[0mlist\u001b[0m\u001b[0;34m(\u001b[0m\u001b[0mcsv\u001b[0m\u001b[0;34m.\u001b[0m\u001b[0mreader\u001b[0m\u001b[0;34m(\u001b[0m\u001b[0mfile\u001b[0m\u001b[0;34m,\u001b[0m\u001b[0mdelimiter\u001b[0m\u001b[0;34m=\u001b[0m\u001b[0;34m','\u001b[0m\u001b[0;34m)\u001b[0m\u001b[0;34m)\u001b[0m\u001b[0;34m\u001b[0m\u001b[0;34m\u001b[0m\u001b[0m\n\u001b[1;32m      4\u001b[0m \u001b[0mfile\u001b[0m\u001b[0;34m.\u001b[0m\u001b[0mclose\u001b[0m\u001b[0;34m(\u001b[0m\u001b[0;34m)\u001b[0m\u001b[0;34m\u001b[0m\u001b[0;34m\u001b[0m\u001b[0m\n\u001b[1;32m      5\u001b[0m \u001b[0mprint\u001b[0m\u001b[0;34m(\u001b[0m\u001b[0mdata1\u001b[0m\u001b[0;34m)\u001b[0m\u001b[0;34m\u001b[0m\u001b[0;34m\u001b[0m\u001b[0m\n",
            "\u001b[0;31mFileNotFoundError\u001b[0m: [Errno 2] No such file or directory: '/content/student name - Sheet1.csv'"
          ]
        }
      ]
    },
    {
      "cell_type": "code",
      "source": [
        "data+data1\n"
      ],
      "metadata": {
        "colab": {
          "base_uri": "https://localhost:8080/"
        },
        "id": "uOJ4ahlNT9rS",
        "outputId": "f7e11362-5347-49bf-e12a-ba38ba2ba9ce"
      },
      "execution_count": null,
      "outputs": [
        {
          "output_type": "execute_result",
          "data": {
            "text/plain": [
              "[['Roll No', 'Marks', 'Year'],\n",
              " ['1', '45', 'FY'],\n",
              " ['2', '34', 'SY'],\n",
              " ['3', '23', 'FY'],\n",
              " ['4', '54', 'SY'],\n",
              " ['5', '23', 'SY'],\n",
              " ['6', '65', 'FY'],\n",
              " ['7', '76', 'FY'],\n",
              " ['8', '45', 'FY'],\n",
              " ['9', '56', 'SY'],\n",
              " ['10', '64', 'SY'],\n",
              " ['Roll No', 'Marks', 'Year'],\n",
              " ['1', '45', 'FY'],\n",
              " ['2', '34', 'SY'],\n",
              " ['3', '23', 'FY'],\n",
              " ['4', '54', 'SY'],\n",
              " ['5', '23', 'SY'],\n",
              " ['6', '65', 'FY'],\n",
              " ['7', '76', 'FY'],\n",
              " ['8', '45', 'FY'],\n",
              " ['9', '56', 'SY'],\n",
              " ['10', '64', 'SY']]"
            ]
          },
          "metadata": {},
          "execution_count": 21
        }
      ]
    },
    {
      "cell_type": "code",
      "source": [
        "mylist=[]\n",
        "mylist.append(data[0])\n",
        "mylist[0].insert(3,data1[1][1])\n",
        "print(mylist)"
      ],
      "metadata": {
        "colab": {
          "base_uri": "https://localhost:8080/"
        },
        "id": "_L-QLnrSVh6y",
        "outputId": "503bdefa-5573-4d61-bafa-08c8ed373bbe"
      },
      "execution_count": null,
      "outputs": [
        {
          "output_type": "stream",
          "name": "stdout",
          "text": [
            "[['Roll No', 'Marks', 'Year', 'Aman', 'Name', '101', 'Aman']]\n"
          ]
        }
      ]
    },
    {
      "cell_type": "code",
      "source": [
        "print(data1)"
      ],
      "metadata": {
        "colab": {
          "base_uri": "https://localhost:8080/"
        },
        "id": "kp6POqzjWY7D",
        "outputId": "7ae8366f-0a19-4ee4-c1bb-403d68c529d0"
      },
      "execution_count": null,
      "outputs": [
        {
          "output_type": "stream",
          "name": "stdout",
          "text": [
            "[['Roll No.', 'Name'], ['101', 'Aman'], ['102', 'Suhas'], ['103', 'Priya']]\n"
          ]
        }
      ]
    },
    {
      "cell_type": "code",
      "source": [
        "mylist=[]\n",
        "for i in range(10):\n",
        "  mylist.append(data1[i]+data2[i])"
      ],
      "metadata": {
        "colab": {
          "base_uri": "https://localhost:8080/",
          "height": 200
        },
        "id": "4h_6K1bBjo7k",
        "outputId": "b045f46d-35be-43ac-ab09-55243516ea08"
      },
      "execution_count": null,
      "outputs": [
        {
          "output_type": "error",
          "ename": "NameError",
          "evalue": "ignored",
          "traceback": [
            "\u001b[0;31m---------------------------------------------------------------------------\u001b[0m",
            "\u001b[0;31mNameError\u001b[0m                                 Traceback (most recent call last)",
            "\u001b[0;32m<ipython-input-9-31b2f91e203f>\u001b[0m in \u001b[0;36m<cell line: 2>\u001b[0;34m()\u001b[0m\n\u001b[1;32m      1\u001b[0m \u001b[0mmylist\u001b[0m\u001b[0;34m=\u001b[0m\u001b[0;34m[\u001b[0m\u001b[0;34m]\u001b[0m\u001b[0;34m\u001b[0m\u001b[0;34m\u001b[0m\u001b[0m\n\u001b[1;32m      2\u001b[0m \u001b[0;32mfor\u001b[0m \u001b[0mi\u001b[0m \u001b[0;32min\u001b[0m \u001b[0mrange\u001b[0m\u001b[0;34m(\u001b[0m\u001b[0;36m10\u001b[0m\u001b[0;34m)\u001b[0m\u001b[0;34m:\u001b[0m\u001b[0;34m\u001b[0m\u001b[0;34m\u001b[0m\u001b[0m\n\u001b[0;32m----> 3\u001b[0;31m   \u001b[0mmylist\u001b[0m\u001b[0;34m.\u001b[0m\u001b[0mappend\u001b[0m\u001b[0;34m(\u001b[0m\u001b[0mdata1\u001b[0m\u001b[0;34m[\u001b[0m\u001b[0mi\u001b[0m\u001b[0;34m]\u001b[0m\u001b[0;34m+\u001b[0m\u001b[0mdata2\u001b[0m\u001b[0;34m[\u001b[0m\u001b[0mi\u001b[0m\u001b[0;34m]\u001b[0m\u001b[0;34m)\u001b[0m\u001b[0;34m\u001b[0m\u001b[0;34m\u001b[0m\u001b[0m\n\u001b[0m",
            "\u001b[0;31mNameError\u001b[0m: name 'data1' is not defined"
          ]
        }
      ]
    },
    {
      "cell_type": "code",
      "source": [
        "mylist[]\n",
        "for i in range(10):\n",
        "  data[i].extend(data2[i])\n"
      ],
      "metadata": {
        "colab": {
          "base_uri": "https://localhost:8080/",
          "height": 130
        },
        "id": "LShTLDxamxbU",
        "outputId": "15b1daa6-8685-4d61-b263-b2d7e0a58c25"
      },
      "execution_count": null,
      "outputs": [
        {
          "output_type": "error",
          "ename": "SyntaxError",
          "evalue": "ignored",
          "traceback": [
            "\u001b[0;36m  File \u001b[0;32m\"<ipython-input-8-3719ee9bad78>\"\u001b[0;36m, line \u001b[0;32m1\u001b[0m\n\u001b[0;31m    mylist[]\u001b[0m\n\u001b[0m           ^\u001b[0m\n\u001b[0;31mSyntaxError\u001b[0m\u001b[0;31m:\u001b[0m invalid syntax\n"
          ]
        }
      ]
    },
    {
      "cell_type": "code",
      "source": [
        "import csv\n",
        "file= open('/content/ID & salary - Sheet1.csv','r')\n",
        "data2=list(csv.reader(file,delimiter=','))\n",
        "print(data2)\n",
        "file.close()"
      ],
      "metadata": {
        "colab": {
          "base_uri": "https://localhost:8080/"
        },
        "id": "9VcOOlJrvBb-",
        "outputId": "b2cef129-80ff-45de-d07c-3f290e7313cd"
      },
      "execution_count": null,
      "outputs": [
        {
          "output_type": "stream",
          "name": "stdout",
          "text": [
            "[['ID', 'salary'], ['480', '60000'], ['481', '40000'], ['482', '25000'], ['483', '21000'], ['484', '35000'], ['485', '60000'], ['486', '15000']]\n"
          ]
        }
      ]
    },
    {
      "cell_type": "code",
      "source": [
        "import csv\n",
        "file= open('/content/posts - Sheet1.csv','r')\n",
        "data3=list(csv.reader(file,delimiter=','))\n",
        "print(data3)\n",
        "file.close()"
      ],
      "metadata": {
        "colab": {
          "base_uri": "https://localhost:8080/"
        },
        "id": "9g3XHqC4vTBy",
        "outputId": "1dd51c92-1775-4860-caa3-7273ec9a1bb3"
      },
      "execution_count": null,
      "outputs": [
        {
          "output_type": "stream",
          "name": "stdout",
          "text": [
            "[['Employee', 'Position'], ['cal', 'manager'], ['leon', 'sub-manager'], ['cap', 'engineer'], ['jake', 'manager'], ['shiro', 'sub-manager'], ['pluto', 'engineer'], ['sam', 'engineer']]\n"
          ]
        }
      ]
    },
    {
      "cell_type": "code",
      "source": [
        "mylist=[]\n",
        "for i in range(10):\n",
        "  mylist.append(data2[i]+data3[i])\n",
        "  print(mylist)\n",
        "  file.close()"
      ],
      "metadata": {
        "colab": {
          "base_uri": "https://localhost:8080/",
          "height": 393
        },
        "id": "GEwnqNzzvghr",
        "outputId": "bb572722-9989-407e-fdb8-c3416422408b"
      },
      "execution_count": null,
      "outputs": [
        {
          "output_type": "stream",
          "name": "stdout",
          "text": [
            "[['ID', 'salary', 'Employee', 'Position']]\n",
            "[['ID', 'salary', 'Employee', 'Position'], ['480', '60000', 'cal', 'manager']]\n",
            "[['ID', 'salary', 'Employee', 'Position'], ['480', '60000', 'cal', 'manager'], ['481', '40000', 'leon', 'sub-manager']]\n",
            "[['ID', 'salary', 'Employee', 'Position'], ['480', '60000', 'cal', 'manager'], ['481', '40000', 'leon', 'sub-manager'], ['482', '25000', 'cap', 'engineer']]\n",
            "[['ID', 'salary', 'Employee', 'Position'], ['480', '60000', 'cal', 'manager'], ['481', '40000', 'leon', 'sub-manager'], ['482', '25000', 'cap', 'engineer'], ['483', '21000', 'jake', 'manager']]\n",
            "[['ID', 'salary', 'Employee', 'Position'], ['480', '60000', 'cal', 'manager'], ['481', '40000', 'leon', 'sub-manager'], ['482', '25000', 'cap', 'engineer'], ['483', '21000', 'jake', 'manager'], ['484', '35000', 'shiro', 'sub-manager']]\n",
            "[['ID', 'salary', 'Employee', 'Position'], ['480', '60000', 'cal', 'manager'], ['481', '40000', 'leon', 'sub-manager'], ['482', '25000', 'cap', 'engineer'], ['483', '21000', 'jake', 'manager'], ['484', '35000', 'shiro', 'sub-manager'], ['485', '60000', 'pluto', 'engineer']]\n",
            "[['ID', 'salary', 'Employee', 'Position'], ['480', '60000', 'cal', 'manager'], ['481', '40000', 'leon', 'sub-manager'], ['482', '25000', 'cap', 'engineer'], ['483', '21000', 'jake', 'manager'], ['484', '35000', 'shiro', 'sub-manager'], ['485', '60000', 'pluto', 'engineer'], ['486', '15000', 'sam', 'engineer']]\n"
          ]
        },
        {
          "output_type": "error",
          "ename": "IndexError",
          "evalue": "ignored",
          "traceback": [
            "\u001b[0;31m---------------------------------------------------------------------------\u001b[0m",
            "\u001b[0;31mIndexError\u001b[0m                                Traceback (most recent call last)",
            "\u001b[0;32m<ipython-input-21-6ed243c0db49>\u001b[0m in \u001b[0;36m<cell line: 2>\u001b[0;34m()\u001b[0m\n\u001b[1;32m      1\u001b[0m \u001b[0mmylist\u001b[0m\u001b[0;34m=\u001b[0m\u001b[0;34m[\u001b[0m\u001b[0;34m]\u001b[0m\u001b[0;34m\u001b[0m\u001b[0;34m\u001b[0m\u001b[0m\n\u001b[1;32m      2\u001b[0m \u001b[0;32mfor\u001b[0m \u001b[0mi\u001b[0m \u001b[0;32min\u001b[0m \u001b[0mrange\u001b[0m\u001b[0;34m(\u001b[0m\u001b[0;36m10\u001b[0m\u001b[0;34m)\u001b[0m\u001b[0;34m:\u001b[0m\u001b[0;34m\u001b[0m\u001b[0;34m\u001b[0m\u001b[0m\n\u001b[0;32m----> 3\u001b[0;31m   \u001b[0mmylist\u001b[0m\u001b[0;34m.\u001b[0m\u001b[0mappend\u001b[0m\u001b[0;34m(\u001b[0m\u001b[0mdata2\u001b[0m\u001b[0;34m[\u001b[0m\u001b[0mi\u001b[0m\u001b[0;34m]\u001b[0m\u001b[0;34m+\u001b[0m\u001b[0mdata3\u001b[0m\u001b[0;34m[\u001b[0m\u001b[0mi\u001b[0m\u001b[0;34m]\u001b[0m\u001b[0;34m)\u001b[0m\u001b[0;34m\u001b[0m\u001b[0;34m\u001b[0m\u001b[0m\n\u001b[0m\u001b[1;32m      4\u001b[0m   \u001b[0mprint\u001b[0m\u001b[0;34m(\u001b[0m\u001b[0mmylist\u001b[0m\u001b[0;34m)\u001b[0m\u001b[0;34m\u001b[0m\u001b[0;34m\u001b[0m\u001b[0m\n\u001b[1;32m      5\u001b[0m   \u001b[0mfile\u001b[0m\u001b[0;34m.\u001b[0m\u001b[0mclose\u001b[0m\u001b[0;34m(\u001b[0m\u001b[0;34m)\u001b[0m\u001b[0;34m\u001b[0m\u001b[0;34m\u001b[0m\u001b[0m\n",
            "\u001b[0;31mIndexError\u001b[0m: list index out of range"
          ]
        }
      ]
    },
    {
      "cell_type": "code",
      "source": [
        "\n",
        "sal=[]\n",
        "for i in range(len(mylist)):\n",
        "  sal.append(int(mylist[i][1]))\n",
        "  print(min(sal))"
      ],
      "metadata": {
        "colab": {
          "base_uri": "https://localhost:8080/"
        },
        "id": "D7BAWbG-wqqt",
        "outputId": "741a1771-b918-4e87-d8cb-36acc5d0f35f"
      },
      "execution_count": null,
      "outputs": [
        {
          "output_type": "stream",
          "name": "stdout",
          "text": [
            "60000\n",
            "40000\n",
            "25000\n",
            "21000\n",
            "21000\n",
            "21000\n",
            "15000\n"
          ]
        }
      ]
    }
  ]
}